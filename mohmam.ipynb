{
  "nbformat": 4,
  "nbformat_minor": 0,
  "metadata": {
    "colab": {
      "provenance": [],
      "mount_file_id": "1ba8K766UUr5bPWGmiibuL3FPptDiCIgA",
      "authorship_tag": "ABX9TyNc9F8hIEyE3omQW6UTpQlU",
      "include_colab_link": true
    },
    "kernelspec": {
      "name": "python3",
      "display_name": "Python 3"
    },
    "language_info": {
      "name": "python"
    }
  },
  "cells": [
    {
      "cell_type": "markdown",
      "metadata": {
        "id": "view-in-github",
        "colab_type": "text"
      },
      "source": [
        "<a href=\"https://colab.research.google.com/github/NavyaBiju/CNN-CLASSIFIER/blob/main/mohmam.ipynb\" target=\"_parent\"><img src=\"https://colab.research.google.com/assets/colab-badge.svg\" alt=\"Open In Colab\"/></a>"
      ]
    },
    {
      "cell_type": "code",
      "execution_count": null,
      "metadata": {
        "id": "iZIes5JQyz28"
      },
      "outputs": [],
      "source": [
        "import numpy as np\n",
        "import cv2 as cv\n",
        "import random\n",
        "import os\n",
        "import matplotlib.pyplot as plt\n",
        "import pickle\n",
        "%matplotlib inline"
      ]
    },
    {
      "cell_type": "code",
      "source": [
        "DIRECTORY = r'/content/drive/MyDrive/dataset'\n",
        "# a raw string(r'...') is used to treat backslash(\\) as a normal character\n",
        "CATEGORIES = ['mammooty','mohanlal']"
      ],
      "metadata": {
        "id": "ydNUJ80r0Icv"
      },
      "execution_count": null,
      "outputs": []
    },
    {
      "cell_type": "code",
      "source": [
        "IMG_SIZE = 224\n",
        "\n",
        "data = []\n",
        "\n",
        "for category in CATEGORIES:\n",
        "    folder = os.path.join(DIRECTORY, category)\n",
        "    for img in os.listdir(folder):\n",
        "        img_path = os.path.join(folder, img)\n",
        "        label = CATEGORIES.index(category)\n",
        "        img_arr = cv.imread(img_path, cv.IMREAD_GRAYSCALE)\n",
        "        img_arr = cv.resize(img_arr,(IMG_SIZE,IMG_SIZE))\n",
        "        data.append([img_arr,label])\n",
        "#         labelling the data\n"
      ],
      "metadata": {
        "id": "hQfwW8iB0NH3"
      },
      "execution_count": null,
      "outputs": []
    },
    {
      "cell_type": "code",
      "source": [
        "random.shuffle(data)\n",
        "# to shuffle the data"
      ],
      "metadata": {
        "id": "Y9j3n8uP0SEr"
      },
      "execution_count": null,
      "outputs": []
    },
    {
      "cell_type": "code",
      "source": [
        "X = []\n",
        "y = []\n",
        "\n",
        "for features, labels in data:\n",
        "    X.append(features)\n",
        "    y.append(labels)"
      ],
      "metadata": {
        "id": "BRpTYxBM0WQX"
      },
      "execution_count": null,
      "outputs": []
    },
    {
      "cell_type": "code",
      "source": [
        "X = np.array(X)\n",
        "y = np.array(y)\n",
        "# changed X & y into arrays and stored it in respective variables"
      ],
      "metadata": {
        "id": "KwmUPo8q0Zs2"
      },
      "execution_count": null,
      "outputs": []
    },
    {
      "cell_type": "code",
      "source": [
        "X"
      ],
      "metadata": {
        "id": "5827hdIj0gkG",
        "colab": {
          "base_uri": "https://localhost:8080/"
        },
        "outputId": "19472e60-a584-4597-ae66-e1a29ba5c536"
      },
      "execution_count": null,
      "outputs": [
        {
          "output_type": "execute_result",
          "data": {
            "text/plain": [
              "array([[[ 17,  18,  20, ...,  11,  11,  11],\n",
              "        [ 21,  23,  25, ...,  10,   9,   9],\n",
              "        [ 27,  29,  31, ...,   9,   8,   8],\n",
              "        ...,\n",
              "        [ 48,  52,  57, ...,  17,  17,  17],\n",
              "        [ 48,  53,  57, ...,  17,  17,  17],\n",
              "        [ 48,  52,  57, ...,  17,  17,  17]],\n",
              "\n",
              "       [[ 20,  21,  22, ...,  27,  25,  24],\n",
              "        [ 20,  21,  22, ...,  27,  25,  24],\n",
              "        [ 20,  21,  22, ...,  26,  26,  26],\n",
              "        ...,\n",
              "        [ 57,  56,  55, ...,  62,  62,  62],\n",
              "        [ 51,  52,  55, ...,  62,  62,  62],\n",
              "        [ 48,  50,  55, ...,  62,  62,  62]],\n",
              "\n",
              "       [[  1,   5,  11, ...,   4,  11,  15],\n",
              "        [  1,   4,   9, ...,   4,  11,  15],\n",
              "        [  1,   3,   7, ...,   3,  12,  17],\n",
              "        ...,\n",
              "        [ 79,  80,  81, ...,   8,  15,  19],\n",
              "        [ 72,  73,  75, ...,  14,  46,  64],\n",
              "        [ 68,  69,  71, ...,  18,  64,  91]],\n",
              "\n",
              "       ...,\n",
              "\n",
              "       [[216, 215, 205, ...,   7,   6,   6],\n",
              "        [216, 215, 205, ...,   8,   6,   6],\n",
              "        [215, 214, 207, ...,   7,   4,   4],\n",
              "        ...,\n",
              "        [140, 139, 134, ..., 184, 221, 226],\n",
              "        [139, 138, 135, ..., 187, 224, 229],\n",
              "        [139, 138, 135, ..., 187, 225, 230]],\n",
              "\n",
              "       [[ 89,  89,  87, ...,  50,  45,  44],\n",
              "        [ 89,  89,  87, ...,  50,  45,  44],\n",
              "        [ 91,  91,  92, ...,  53,  50,  50],\n",
              "        ...,\n",
              "        [227, 227, 227, ...,  32,  28,  28],\n",
              "        [229, 229, 229, ...,  33,  29,  29],\n",
              "        [229, 229, 229, ...,  33,  29,  29]],\n",
              "\n",
              "       [[214, 214, 214, ...,  74,  98, 107],\n",
              "        [214, 214, 214, ...,  68,  89,  98],\n",
              "        [213, 213, 214, ...,  53,  69,  75],\n",
              "        ...,\n",
              "        [226, 227, 230, ..., 172, 172, 172],\n",
              "        [224, 226, 228, ..., 172, 171, 171],\n",
              "        [224, 225, 228, ..., 172, 171, 171]]], dtype=uint8)"
            ]
          },
          "metadata": {},
          "execution_count": 33
        }
      ]
    },
    {
      "cell_type": "code",
      "source": [
        "y"
      ],
      "metadata": {
        "id": "z_jviMZW0jSG",
        "colab": {
          "base_uri": "https://localhost:8080/"
        },
        "outputId": "7ef71893-05fa-4a6f-edb5-1291ccaca331"
      },
      "execution_count": null,
      "outputs": [
        {
          "output_type": "execute_result",
          "data": {
            "text/plain": [
              "array([1, 1, 0, 1, 0, 1, 1, 1, 1, 1, 1, 1, 1, 1, 1, 0, 1, 0, 1, 0, 1, 1,\n",
              "       0, 0, 1, 1, 1, 1, 0, 1, 1, 1, 1, 0, 1, 1, 0, 1, 1, 1, 1, 0, 1, 0,\n",
              "       1, 1, 1, 0, 1, 1, 1, 1, 1, 0, 0, 0, 1, 1, 1, 1, 1, 1, 1, 1, 1, 0,\n",
              "       0, 1, 1, 1, 1, 0, 1, 1, 0, 0, 1, 1, 1, 1, 0, 1, 1, 1, 1, 1, 0, 1,\n",
              "       0, 1, 1, 1, 1, 1, 1, 1, 1, 1, 1, 1, 1, 0, 0, 0, 0, 0, 0, 1, 1, 1,\n",
              "       0, 0, 1, 1, 1, 1, 1, 1, 0, 1, 0, 1, 1, 1, 1, 1, 0, 1, 1, 1, 1, 1,\n",
              "       0, 0, 1, 1, 1, 1, 1, 0, 1, 0, 1, 1, 0, 1, 1, 1, 0, 1, 1, 1, 1, 1,\n",
              "       0, 1, 1, 1, 1, 1, 1, 1, 1, 1, 0, 1, 0, 1, 1, 0, 1, 1, 0, 1, 1, 1,\n",
              "       0, 1, 0, 1, 1, 1, 1, 1, 1, 1, 0, 1, 1, 0, 0, 1, 1, 1, 1, 1, 1, 0,\n",
              "       1, 1, 0, 1, 1, 1, 0, 1, 0, 1, 1, 1, 1, 1, 0, 1, 1, 0, 1, 0, 0, 1,\n",
              "       1, 1, 1, 0, 0, 1, 1, 1, 1, 0, 1, 1, 0, 1, 1, 0, 0, 0, 0, 0, 1, 0,\n",
              "       1, 0, 1, 1, 0, 0, 1, 1, 1, 1, 1, 0, 0, 1, 1, 1, 1, 1, 1, 0, 1, 1,\n",
              "       1, 0, 0, 1, 1, 0, 1, 1, 1, 1, 1, 1, 1, 1, 0, 0, 0, 1, 1, 1, 1, 1,\n",
              "       1, 0, 1, 0, 0, 1, 0, 1, 0, 1, 1, 1, 1, 1, 1, 1, 1, 0, 0, 1, 0, 0,\n",
              "       1, 1, 1, 1, 0, 1, 0, 1, 1, 1, 0, 0, 0, 0, 1, 0, 0, 1, 1, 1, 0, 1,\n",
              "       1, 1, 1, 1, 1, 0, 1, 0, 0, 1, 1, 1, 1, 1, 1, 0, 1, 1, 1, 0, 1, 0,\n",
              "       1, 0, 0, 1, 0, 1, 1, 1, 0, 1, 1, 1, 1, 0, 0, 1, 0, 1, 0, 1, 1, 0,\n",
              "       0, 0, 0, 1, 1, 1, 0, 1, 0, 1, 1, 0, 1, 1, 1, 1, 0, 1, 1, 0, 1, 0,\n",
              "       1, 1, 0, 0, 1, 1, 1, 1, 0, 1, 1, 1, 0, 0, 0, 0, 1, 1, 1, 0, 1, 0,\n",
              "       1, 0, 0, 1, 1, 1, 1, 1, 0, 1, 1, 0, 1, 1, 1, 0, 1, 1, 0, 1, 1, 1,\n",
              "       1, 1, 0, 0, 1, 0, 1, 1, 1, 0, 0, 0, 1, 0, 0, 1, 0, 1, 0, 1, 1, 1,\n",
              "       1, 1, 1, 1, 0, 1, 1, 1, 0, 1, 1, 1, 1, 1, 1, 1, 1, 1, 0, 0, 1, 1,\n",
              "       0, 1, 1, 1, 0, 1, 0, 0, 0, 1, 1, 1, 0, 1, 0, 0, 0, 0, 1, 0, 1, 1,\n",
              "       1, 0, 1, 1, 1, 1, 0, 1, 1, 1, 1, 1, 1, 0, 0, 1, 1, 1, 1, 1, 1, 1,\n",
              "       1, 1, 1, 1, 1, 1, 1, 1, 0, 1, 1, 1, 1, 0, 1, 0, 1, 1, 1, 1, 1, 1,\n",
              "       0, 0, 1, 0, 1, 1, 1, 1, 1, 1, 1, 1, 1, 1, 1, 1, 1, 1, 1, 1, 0, 1,\n",
              "       0, 1, 1, 0, 1, 1, 0, 0, 1, 0, 1, 1, 1, 1, 1, 1, 1, 0, 1, 0, 1, 0,\n",
              "       1, 1, 0, 1, 1, 0, 1, 0, 1, 1, 1, 1, 0, 1, 0, 1, 1, 1, 1, 0, 0, 0,\n",
              "       0, 1, 0, 1, 1, 1, 0, 0, 1, 1, 1, 1, 0, 1, 1, 1, 1, 0, 0, 0, 1, 0,\n",
              "       1, 1, 0, 0, 1, 1, 1, 1, 1, 1, 1, 0, 1, 0, 1, 1, 1, 1, 1, 0, 0, 1,\n",
              "       1, 1, 0, 1, 0, 1, 1, 0, 0, 1, 0, 0, 1, 1, 1, 1, 1, 1, 1, 1, 0, 1,\n",
              "       1, 0, 0, 1, 1, 1, 1, 0, 1, 1, 1, 1, 1, 0, 1, 1, 0, 0, 0, 1, 1, 1,\n",
              "       1, 1, 1, 1, 1, 1, 1, 1, 0, 1, 0, 1, 1, 1, 1, 1, 1, 1, 1, 1, 1, 1,\n",
              "       0, 1, 0, 1, 0, 1, 0, 1, 1, 1, 0, 1, 1, 1, 1, 1, 0, 0, 1, 1, 1, 1,\n",
              "       1, 1, 1, 0, 1, 1, 0, 0, 0, 0, 0, 0, 1, 1, 0, 1, 1, 1, 1, 0, 1, 1,\n",
              "       0, 1, 1, 1, 0, 1, 1, 0, 0, 1, 1, 0, 1, 1, 1, 1, 1, 0, 1, 1, 1, 1,\n",
              "       1, 1, 1, 1, 1, 0, 0, 0, 1, 0, 1, 0, 1, 0, 0, 1, 1, 1, 1, 1, 1, 1,\n",
              "       0, 1, 0, 1, 0, 1, 1, 1, 1, 1, 1, 1, 1, 1, 1, 1, 1, 1, 1, 1, 1, 1,\n",
              "       0, 0, 1, 1, 1, 1, 1, 1, 0, 1, 1, 1, 1, 1, 1, 1, 1, 1, 1, 1, 1, 1,\n",
              "       1, 1, 0, 0, 1, 0, 1, 1, 0, 0, 1, 1, 0, 1, 1, 0, 0, 0, 0, 1, 0, 1,\n",
              "       0, 1, 1, 1, 1, 1, 1, 1, 0, 1, 1, 1, 1, 1, 1, 1, 0, 0, 1, 1, 1, 1,\n",
              "       1, 1, 1, 1, 1, 1, 0, 1, 1, 1, 0, 1, 1, 1, 1, 0, 1, 0, 0, 0, 1, 1,\n",
              "       1, 1, 1, 1, 1, 0, 1, 1, 1, 1, 1, 1, 1, 0, 1, 1, 1, 1, 1, 1, 1, 1,\n",
              "       0, 1, 0, 1, 1, 0, 1, 0, 1, 1, 1, 1, 1, 0, 0, 0, 0, 0, 1, 1, 1, 1,\n",
              "       0, 1, 1, 1, 1, 0, 1, 1, 1, 0, 1, 0, 1, 0, 1, 1, 1, 0, 1, 1, 0, 0,\n",
              "       0, 1, 1, 1])"
            ]
          },
          "metadata": {},
          "execution_count": 34
        }
      ]
    },
    {
      "cell_type": "code",
      "source": [
        "X = pickle.dump(X,open('X.pkl', 'wb'))\n",
        "y = pickle.dump(y,open('y.pkl', 'wb'))\n",
        "\n",
        "# storing the data in a pickle file"
      ],
      "metadata": {
        "id": "5hStc1ec0ko_"
      },
      "execution_count": null,
      "outputs": []
    },
    {
      "cell_type": "code",
      "source": [
        "import pickle\n"
      ],
      "metadata": {
        "id": "Bf9vCmgBMiho"
      },
      "execution_count": null,
      "outputs": []
    },
    {
      "cell_type": "code",
      "source": [
        "X = pickle.load(open('X.pkl', 'rb'))\n",
        "y = pickle.load(open('y.pkl', 'rb'))"
      ],
      "metadata": {
        "id": "G-vvtXGDNt2x"
      },
      "execution_count": null,
      "outputs": []
    },
    {
      "cell_type": "code",
      "source": [
        "X"
      ],
      "metadata": {
        "colab": {
          "base_uri": "https://localhost:8080/"
        },
        "id": "VVBOvWpqMlkD",
        "outputId": "a3d6ba1a-578f-446f-d3af-1a8eee4f04e9"
      },
      "execution_count": null,
      "outputs": [
        {
          "output_type": "execute_result",
          "data": {
            "text/plain": [
              "array([[[ 17,  18,  20, ...,  11,  11,  11],\n",
              "        [ 21,  23,  25, ...,  10,   9,   9],\n",
              "        [ 27,  29,  31, ...,   9,   8,   8],\n",
              "        ...,\n",
              "        [ 48,  52,  57, ...,  17,  17,  17],\n",
              "        [ 48,  53,  57, ...,  17,  17,  17],\n",
              "        [ 48,  52,  57, ...,  17,  17,  17]],\n",
              "\n",
              "       [[ 20,  21,  22, ...,  27,  25,  24],\n",
              "        [ 20,  21,  22, ...,  27,  25,  24],\n",
              "        [ 20,  21,  22, ...,  26,  26,  26],\n",
              "        ...,\n",
              "        [ 57,  56,  55, ...,  62,  62,  62],\n",
              "        [ 51,  52,  55, ...,  62,  62,  62],\n",
              "        [ 48,  50,  55, ...,  62,  62,  62]],\n",
              "\n",
              "       [[  1,   5,  11, ...,   4,  11,  15],\n",
              "        [  1,   4,   9, ...,   4,  11,  15],\n",
              "        [  1,   3,   7, ...,   3,  12,  17],\n",
              "        ...,\n",
              "        [ 79,  80,  81, ...,   8,  15,  19],\n",
              "        [ 72,  73,  75, ...,  14,  46,  64],\n",
              "        [ 68,  69,  71, ...,  18,  64,  91]],\n",
              "\n",
              "       ...,\n",
              "\n",
              "       [[216, 215, 205, ...,   7,   6,   6],\n",
              "        [216, 215, 205, ...,   8,   6,   6],\n",
              "        [215, 214, 207, ...,   7,   4,   4],\n",
              "        ...,\n",
              "        [140, 139, 134, ..., 184, 221, 226],\n",
              "        [139, 138, 135, ..., 187, 224, 229],\n",
              "        [139, 138, 135, ..., 187, 225, 230]],\n",
              "\n",
              "       [[ 89,  89,  87, ...,  50,  45,  44],\n",
              "        [ 89,  89,  87, ...,  50,  45,  44],\n",
              "        [ 91,  91,  92, ...,  53,  50,  50],\n",
              "        ...,\n",
              "        [227, 227, 227, ...,  32,  28,  28],\n",
              "        [229, 229, 229, ...,  33,  29,  29],\n",
              "        [229, 229, 229, ...,  33,  29,  29]],\n",
              "\n",
              "       [[214, 214, 214, ...,  74,  98, 107],\n",
              "        [214, 214, 214, ...,  68,  89,  98],\n",
              "        [213, 213, 214, ...,  53,  69,  75],\n",
              "        ...,\n",
              "        [226, 227, 230, ..., 172, 172, 172],\n",
              "        [224, 226, 228, ..., 172, 171, 171],\n",
              "        [224, 225, 228, ..., 172, 171, 171]]], dtype=uint8)"
            ]
          },
          "metadata": {},
          "execution_count": 42
        }
      ]
    },
    {
      "cell_type": "code",
      "source": [
        "y"
      ],
      "metadata": {
        "colab": {
          "base_uri": "https://localhost:8080/"
        },
        "id": "Bour3qrSMssb",
        "outputId": "acca0553-30d4-4d03-cd4c-1e86c501c9b5"
      },
      "execution_count": null,
      "outputs": [
        {
          "output_type": "execute_result",
          "data": {
            "text/plain": [
              "array([1, 1, 0, 1, 0, 1, 1, 1, 1, 1, 1, 1, 1, 1, 1, 0, 1, 0, 1, 0, 1, 1,\n",
              "       0, 0, 1, 1, 1, 1, 0, 1, 1, 1, 1, 0, 1, 1, 0, 1, 1, 1, 1, 0, 1, 0,\n",
              "       1, 1, 1, 0, 1, 1, 1, 1, 1, 0, 0, 0, 1, 1, 1, 1, 1, 1, 1, 1, 1, 0,\n",
              "       0, 1, 1, 1, 1, 0, 1, 1, 0, 0, 1, 1, 1, 1, 0, 1, 1, 1, 1, 1, 0, 1,\n",
              "       0, 1, 1, 1, 1, 1, 1, 1, 1, 1, 1, 1, 1, 0, 0, 0, 0, 0, 0, 1, 1, 1,\n",
              "       0, 0, 1, 1, 1, 1, 1, 1, 0, 1, 0, 1, 1, 1, 1, 1, 0, 1, 1, 1, 1, 1,\n",
              "       0, 0, 1, 1, 1, 1, 1, 0, 1, 0, 1, 1, 0, 1, 1, 1, 0, 1, 1, 1, 1, 1,\n",
              "       0, 1, 1, 1, 1, 1, 1, 1, 1, 1, 0, 1, 0, 1, 1, 0, 1, 1, 0, 1, 1, 1,\n",
              "       0, 1, 0, 1, 1, 1, 1, 1, 1, 1, 0, 1, 1, 0, 0, 1, 1, 1, 1, 1, 1, 0,\n",
              "       1, 1, 0, 1, 1, 1, 0, 1, 0, 1, 1, 1, 1, 1, 0, 1, 1, 0, 1, 0, 0, 1,\n",
              "       1, 1, 1, 0, 0, 1, 1, 1, 1, 0, 1, 1, 0, 1, 1, 0, 0, 0, 0, 0, 1, 0,\n",
              "       1, 0, 1, 1, 0, 0, 1, 1, 1, 1, 1, 0, 0, 1, 1, 1, 1, 1, 1, 0, 1, 1,\n",
              "       1, 0, 0, 1, 1, 0, 1, 1, 1, 1, 1, 1, 1, 1, 0, 0, 0, 1, 1, 1, 1, 1,\n",
              "       1, 0, 1, 0, 0, 1, 0, 1, 0, 1, 1, 1, 1, 1, 1, 1, 1, 0, 0, 1, 0, 0,\n",
              "       1, 1, 1, 1, 0, 1, 0, 1, 1, 1, 0, 0, 0, 0, 1, 0, 0, 1, 1, 1, 0, 1,\n",
              "       1, 1, 1, 1, 1, 0, 1, 0, 0, 1, 1, 1, 1, 1, 1, 0, 1, 1, 1, 0, 1, 0,\n",
              "       1, 0, 0, 1, 0, 1, 1, 1, 0, 1, 1, 1, 1, 0, 0, 1, 0, 1, 0, 1, 1, 0,\n",
              "       0, 0, 0, 1, 1, 1, 0, 1, 0, 1, 1, 0, 1, 1, 1, 1, 0, 1, 1, 0, 1, 0,\n",
              "       1, 1, 0, 0, 1, 1, 1, 1, 0, 1, 1, 1, 0, 0, 0, 0, 1, 1, 1, 0, 1, 0,\n",
              "       1, 0, 0, 1, 1, 1, 1, 1, 0, 1, 1, 0, 1, 1, 1, 0, 1, 1, 0, 1, 1, 1,\n",
              "       1, 1, 0, 0, 1, 0, 1, 1, 1, 0, 0, 0, 1, 0, 0, 1, 0, 1, 0, 1, 1, 1,\n",
              "       1, 1, 1, 1, 0, 1, 1, 1, 0, 1, 1, 1, 1, 1, 1, 1, 1, 1, 0, 0, 1, 1,\n",
              "       0, 1, 1, 1, 0, 1, 0, 0, 0, 1, 1, 1, 0, 1, 0, 0, 0, 0, 1, 0, 1, 1,\n",
              "       1, 0, 1, 1, 1, 1, 0, 1, 1, 1, 1, 1, 1, 0, 0, 1, 1, 1, 1, 1, 1, 1,\n",
              "       1, 1, 1, 1, 1, 1, 1, 1, 0, 1, 1, 1, 1, 0, 1, 0, 1, 1, 1, 1, 1, 1,\n",
              "       0, 0, 1, 0, 1, 1, 1, 1, 1, 1, 1, 1, 1, 1, 1, 1, 1, 1, 1, 1, 0, 1,\n",
              "       0, 1, 1, 0, 1, 1, 0, 0, 1, 0, 1, 1, 1, 1, 1, 1, 1, 0, 1, 0, 1, 0,\n",
              "       1, 1, 0, 1, 1, 0, 1, 0, 1, 1, 1, 1, 0, 1, 0, 1, 1, 1, 1, 0, 0, 0,\n",
              "       0, 1, 0, 1, 1, 1, 0, 0, 1, 1, 1, 1, 0, 1, 1, 1, 1, 0, 0, 0, 1, 0,\n",
              "       1, 1, 0, 0, 1, 1, 1, 1, 1, 1, 1, 0, 1, 0, 1, 1, 1, 1, 1, 0, 0, 1,\n",
              "       1, 1, 0, 1, 0, 1, 1, 0, 0, 1, 0, 0, 1, 1, 1, 1, 1, 1, 1, 1, 0, 1,\n",
              "       1, 0, 0, 1, 1, 1, 1, 0, 1, 1, 1, 1, 1, 0, 1, 1, 0, 0, 0, 1, 1, 1,\n",
              "       1, 1, 1, 1, 1, 1, 1, 1, 0, 1, 0, 1, 1, 1, 1, 1, 1, 1, 1, 1, 1, 1,\n",
              "       0, 1, 0, 1, 0, 1, 0, 1, 1, 1, 0, 1, 1, 1, 1, 1, 0, 0, 1, 1, 1, 1,\n",
              "       1, 1, 1, 0, 1, 1, 0, 0, 0, 0, 0, 0, 1, 1, 0, 1, 1, 1, 1, 0, 1, 1,\n",
              "       0, 1, 1, 1, 0, 1, 1, 0, 0, 1, 1, 0, 1, 1, 1, 1, 1, 0, 1, 1, 1, 1,\n",
              "       1, 1, 1, 1, 1, 0, 0, 0, 1, 0, 1, 0, 1, 0, 0, 1, 1, 1, 1, 1, 1, 1,\n",
              "       0, 1, 0, 1, 0, 1, 1, 1, 1, 1, 1, 1, 1, 1, 1, 1, 1, 1, 1, 1, 1, 1,\n",
              "       0, 0, 1, 1, 1, 1, 1, 1, 0, 1, 1, 1, 1, 1, 1, 1, 1, 1, 1, 1, 1, 1,\n",
              "       1, 1, 0, 0, 1, 0, 1, 1, 0, 0, 1, 1, 0, 1, 1, 0, 0, 0, 0, 1, 0, 1,\n",
              "       0, 1, 1, 1, 1, 1, 1, 1, 0, 1, 1, 1, 1, 1, 1, 1, 0, 0, 1, 1, 1, 1,\n",
              "       1, 1, 1, 1, 1, 1, 0, 1, 1, 1, 0, 1, 1, 1, 1, 0, 1, 0, 0, 0, 1, 1,\n",
              "       1, 1, 1, 1, 1, 0, 1, 1, 1, 1, 1, 1, 1, 0, 1, 1, 1, 1, 1, 1, 1, 1,\n",
              "       0, 1, 0, 1, 1, 0, 1, 0, 1, 1, 1, 1, 1, 0, 0, 0, 0, 0, 1, 1, 1, 1,\n",
              "       0, 1, 1, 1, 1, 0, 1, 1, 1, 0, 1, 0, 1, 0, 1, 1, 1, 0, 1, 1, 0, 0,\n",
              "       0, 1, 1, 1])"
            ]
          },
          "metadata": {},
          "execution_count": 43
        }
      ]
    },
    {
      "cell_type": "code",
      "source": [
        "X = X/255"
      ],
      "metadata": {
        "id": "3SDZQKKrMw1j"
      },
      "execution_count": null,
      "outputs": []
    },
    {
      "cell_type": "code",
      "source": [
        "X"
      ],
      "metadata": {
        "colab": {
          "base_uri": "https://localhost:8080/"
        },
        "id": "o6HuxWoaN6UI",
        "outputId": "ddbd21da-7615-4a23-ba5e-fc8f25663d18"
      },
      "execution_count": null,
      "outputs": [
        {
          "output_type": "execute_result",
          "data": {
            "text/plain": [
              "array([[[0.06666667, 0.07058824, 0.07843137, ..., 0.04313725,\n",
              "         0.04313725, 0.04313725],\n",
              "        [0.08235294, 0.09019608, 0.09803922, ..., 0.03921569,\n",
              "         0.03529412, 0.03529412],\n",
              "        [0.10588235, 0.11372549, 0.12156863, ..., 0.03529412,\n",
              "         0.03137255, 0.03137255],\n",
              "        ...,\n",
              "        [0.18823529, 0.20392157, 0.22352941, ..., 0.06666667,\n",
              "         0.06666667, 0.06666667],\n",
              "        [0.18823529, 0.20784314, 0.22352941, ..., 0.06666667,\n",
              "         0.06666667, 0.06666667],\n",
              "        [0.18823529, 0.20392157, 0.22352941, ..., 0.06666667,\n",
              "         0.06666667, 0.06666667]],\n",
              "\n",
              "       [[0.07843137, 0.08235294, 0.08627451, ..., 0.10588235,\n",
              "         0.09803922, 0.09411765],\n",
              "        [0.07843137, 0.08235294, 0.08627451, ..., 0.10588235,\n",
              "         0.09803922, 0.09411765],\n",
              "        [0.07843137, 0.08235294, 0.08627451, ..., 0.10196078,\n",
              "         0.10196078, 0.10196078],\n",
              "        ...,\n",
              "        [0.22352941, 0.21960784, 0.21568627, ..., 0.24313725,\n",
              "         0.24313725, 0.24313725],\n",
              "        [0.2       , 0.20392157, 0.21568627, ..., 0.24313725,\n",
              "         0.24313725, 0.24313725],\n",
              "        [0.18823529, 0.19607843, 0.21568627, ..., 0.24313725,\n",
              "         0.24313725, 0.24313725]],\n",
              "\n",
              "       [[0.00392157, 0.01960784, 0.04313725, ..., 0.01568627,\n",
              "         0.04313725, 0.05882353],\n",
              "        [0.00392157, 0.01568627, 0.03529412, ..., 0.01568627,\n",
              "         0.04313725, 0.05882353],\n",
              "        [0.00392157, 0.01176471, 0.02745098, ..., 0.01176471,\n",
              "         0.04705882, 0.06666667],\n",
              "        ...,\n",
              "        [0.30980392, 0.31372549, 0.31764706, ..., 0.03137255,\n",
              "         0.05882353, 0.0745098 ],\n",
              "        [0.28235294, 0.28627451, 0.29411765, ..., 0.05490196,\n",
              "         0.18039216, 0.25098039],\n",
              "        [0.26666667, 0.27058824, 0.27843137, ..., 0.07058824,\n",
              "         0.25098039, 0.35686275]],\n",
              "\n",
              "       ...,\n",
              "\n",
              "       [[0.84705882, 0.84313725, 0.80392157, ..., 0.02745098,\n",
              "         0.02352941, 0.02352941],\n",
              "        [0.84705882, 0.84313725, 0.80392157, ..., 0.03137255,\n",
              "         0.02352941, 0.02352941],\n",
              "        [0.84313725, 0.83921569, 0.81176471, ..., 0.02745098,\n",
              "         0.01568627, 0.01568627],\n",
              "        ...,\n",
              "        [0.54901961, 0.54509804, 0.5254902 , ..., 0.72156863,\n",
              "         0.86666667, 0.88627451],\n",
              "        [0.54509804, 0.54117647, 0.52941176, ..., 0.73333333,\n",
              "         0.87843137, 0.89803922],\n",
              "        [0.54509804, 0.54117647, 0.52941176, ..., 0.73333333,\n",
              "         0.88235294, 0.90196078]],\n",
              "\n",
              "       [[0.34901961, 0.34901961, 0.34117647, ..., 0.19607843,\n",
              "         0.17647059, 0.17254902],\n",
              "        [0.34901961, 0.34901961, 0.34117647, ..., 0.19607843,\n",
              "         0.17647059, 0.17254902],\n",
              "        [0.35686275, 0.35686275, 0.36078431, ..., 0.20784314,\n",
              "         0.19607843, 0.19607843],\n",
              "        ...,\n",
              "        [0.89019608, 0.89019608, 0.89019608, ..., 0.1254902 ,\n",
              "         0.10980392, 0.10980392],\n",
              "        [0.89803922, 0.89803922, 0.89803922, ..., 0.12941176,\n",
              "         0.11372549, 0.11372549],\n",
              "        [0.89803922, 0.89803922, 0.89803922, ..., 0.12941176,\n",
              "         0.11372549, 0.11372549]],\n",
              "\n",
              "       [[0.83921569, 0.83921569, 0.83921569, ..., 0.29019608,\n",
              "         0.38431373, 0.41960784],\n",
              "        [0.83921569, 0.83921569, 0.83921569, ..., 0.26666667,\n",
              "         0.34901961, 0.38431373],\n",
              "        [0.83529412, 0.83529412, 0.83921569, ..., 0.20784314,\n",
              "         0.27058824, 0.29411765],\n",
              "        ...,\n",
              "        [0.88627451, 0.89019608, 0.90196078, ..., 0.6745098 ,\n",
              "         0.6745098 , 0.6745098 ],\n",
              "        [0.87843137, 0.88627451, 0.89411765, ..., 0.6745098 ,\n",
              "         0.67058824, 0.67058824],\n",
              "        [0.87843137, 0.88235294, 0.89411765, ..., 0.6745098 ,\n",
              "         0.67058824, 0.67058824]]])"
            ]
          },
          "metadata": {},
          "execution_count": 45
        }
      ]
    },
    {
      "cell_type": "code",
      "source": [
        "X.shape"
      ],
      "metadata": {
        "colab": {
          "base_uri": "https://localhost:8080/"
        },
        "id": "Uz95O5PqOLFR",
        "outputId": "7de89065-7e8b-462d-c7b0-6da89bc81d56"
      },
      "execution_count": null,
      "outputs": [
        {
          "output_type": "execute_result",
          "data": {
            "text/plain": [
              "(994, 224, 224)"
            ]
          },
          "metadata": {},
          "execution_count": 46
        }
      ]
    },
    {
      "cell_type": "code",
      "source": [
        "X = X.reshape(-1, 224, 224, 1)"
      ],
      "metadata": {
        "id": "UEgyUUpvOOsC"
      },
      "execution_count": null,
      "outputs": []
    },
    {
      "cell_type": "code",
      "source": [
        "X.shape"
      ],
      "metadata": {
        "colab": {
          "base_uri": "https://localhost:8080/"
        },
        "id": "VJap6i80OUFA",
        "outputId": "6a31d819-4cc5-46da-ef3a-297233be0559"
      },
      "execution_count": null,
      "outputs": [
        {
          "output_type": "execute_result",
          "data": {
            "text/plain": [
              "(994, 224, 224, 1)"
            ]
          },
          "metadata": {},
          "execution_count": 48
        }
      ]
    },
    {
      "cell_type": "code",
      "source": [
        "from keras.models import Sequential\n",
        "from keras.layers import Conv2D, MaxPooling2D, Dense, Flatten"
      ],
      "metadata": {
        "id": "tVoiDOmyOYjm"
      },
      "execution_count": null,
      "outputs": []
    },
    {
      "cell_type": "code",
      "source": [
        "model = Sequential()"
      ],
      "metadata": {
        "id": "Xf2_dLQjOhBf"
      },
      "execution_count": null,
      "outputs": []
    },
    {
      "cell_type": "code",
      "source": [
        "# Step 1 - Convolution\n",
        "model.add(Conv2D(64,(3,3), activation='relu'))\n",
        "# Step 2 - Pooling\n",
        "model.add(MaxPooling2D((2,2)))\n",
        "\n",
        "# Adding a second convolutional layer\n",
        "model.add(Conv2D(64,(3,3), activation='relu'))\n",
        "model.add(MaxPooling2D((2,2)))\n",
        "\n",
        "# Step 3 - Flattening\n",
        "model.add(Flatten())\n",
        "\n",
        "# Step 4 - Full Connection\n",
        "model.add(Dense(128, input_shape = X.shape[1:], activation = 'relu'))\n",
        "\n",
        "# Step 5 - Output Layer\n",
        "model.add(Dense(2, activation= 'sigmoid'))"
      ],
      "metadata": {
        "id": "JiRtBeg5On68"
      },
      "execution_count": null,
      "outputs": []
    },
    {
      "cell_type": "code",
      "source": [
        "model.compile(optimizer = 'adam', loss='sparse_categorical_crossentropy', metrics = ['accuracy'])"
      ],
      "metadata": {
        "id": "qvD2F4lwOuw7"
      },
      "execution_count": null,
      "outputs": []
    },
    {
      "cell_type": "code",
      "source": [
        "model.fit(X, y, epochs=10, validation_split=0.2)"
      ],
      "metadata": {
        "colab": {
          "base_uri": "https://localhost:8080/"
        },
        "id": "uvBaPP3YO0oX",
        "outputId": "428b101a-512f-4a69-efe0-07566fbf7ce8"
      },
      "execution_count": null,
      "outputs": [
        {
          "output_type": "stream",
          "name": "stdout",
          "text": [
            "Epoch 1/10\n",
            "25/25 [==============================] - 142s 6s/step - loss: 1.2468 - accuracy: 0.6541 - val_loss: 0.5894 - val_accuracy: 0.7387\n",
            "Epoch 2/10\n",
            "25/25 [==============================] - 136s 5s/step - loss: 0.4433 - accuracy: 0.7774 - val_loss: 0.3155 - val_accuracy: 0.8593\n",
            "Epoch 3/10\n",
            "25/25 [==============================] - 139s 6s/step - loss: 0.2131 - accuracy: 0.9195 - val_loss: 0.4303 - val_accuracy: 0.8191\n",
            "Epoch 4/10\n",
            "25/25 [==============================] - 136s 5s/step - loss: 0.1354 - accuracy: 0.9472 - val_loss: 0.1827 - val_accuracy: 0.9447\n",
            "Epoch 5/10\n",
            "25/25 [==============================] - 136s 5s/step - loss: 0.0414 - accuracy: 0.9874 - val_loss: 0.1496 - val_accuracy: 0.9749\n",
            "Epoch 6/10\n",
            "25/25 [==============================] - 135s 5s/step - loss: 0.0190 - accuracy: 0.9975 - val_loss: 0.1893 - val_accuracy: 0.9548\n",
            "Epoch 7/10\n",
            "25/25 [==============================] - 136s 5s/step - loss: 0.0143 - accuracy: 0.9962 - val_loss: 0.1865 - val_accuracy: 0.9548\n",
            "Epoch 8/10\n",
            "25/25 [==============================] - 133s 5s/step - loss: 0.0079 - accuracy: 0.9975 - val_loss: 0.1748 - val_accuracy: 0.9648\n",
            "Epoch 9/10\n",
            "25/25 [==============================] - 135s 5s/step - loss: 0.0037 - accuracy: 1.0000 - val_loss: 0.2018 - val_accuracy: 0.9548\n",
            "Epoch 10/10\n",
            "25/25 [==============================] - 136s 5s/step - loss: 0.0032 - accuracy: 0.9987 - val_loss: 0.2076 - val_accuracy: 0.9598\n"
          ]
        },
        {
          "output_type": "execute_result",
          "data": {
            "text/plain": [
              "<keras.callbacks.History at 0x7c326c56a770>"
            ]
          },
          "metadata": {},
          "execution_count": 53
        }
      ]
    },
    {
      "cell_type": "code",
      "source": [
        "scores = model.evaluate(X,y,verbose=0)\n",
        "print(\"Accuracy: %.2f%%\" % (scores[1]*100))"
      ],
      "metadata": {
        "colab": {
          "base_uri": "https://localhost:8080/"
        },
        "id": "eNQq5LEZUnEe",
        "outputId": "195f4d5d-9851-4625-c074-8320927b4f9c"
      },
      "execution_count": null,
      "outputs": [
        {
          "output_type": "stream",
          "name": "stdout",
          "text": [
            "Accuracy: 99.20%\n"
          ]
        }
      ]
    },
    {
      "cell_type": "code",
      "source": [
        "X.shape"
      ],
      "metadata": {
        "colab": {
          "base_uri": "https://localhost:8080/"
        },
        "id": "Pe-uYLroU6Yf",
        "outputId": "44a229b0-1899-4aab-df15-29eec11a2d3d"
      },
      "execution_count": null,
      "outputs": [
        {
          "output_type": "execute_result",
          "data": {
            "text/plain": [
              "(994, 224, 224, 1)"
            ]
          },
          "metadata": {},
          "execution_count": 55
        }
      ]
    },
    {
      "cell_type": "code",
      "source": [
        "model.save('cnn4.model',save_format='h5')"
      ],
      "metadata": {
        "id": "PVgsCADfU8-1"
      },
      "execution_count": null,
      "outputs": []
    },
    {
      "cell_type": "code",
      "source": [
        "import numpy as np\n",
        "import cv2\n",
        "import keras"
      ],
      "metadata": {
        "id": "r0DNYbanVsH1"
      },
      "execution_count": null,
      "outputs": []
    },
    {
      "cell_type": "code",
      "source": [
        "CATEGORIES = ['mammooty', 'mohanlal']\n",
        "\n",
        "\n",
        "def image(path):\n",
        "    img = cv2.imread(path, cv2.IMREAD_GRAYSCALE)\n",
        "    new_arr = cv2.resize(img, (224, 224))\n",
        "    new_arr = np.array(new_arr)\n",
        "    new_arr = new_arr.reshape(-1, 224,224, 1)\n",
        "    return new_arr\n",
        "#preprocessing the user input"
      ],
      "metadata": {
        "id": "4ZwjdrhNVvti"
      },
      "execution_count": null,
      "outputs": []
    },
    {
      "cell_type": "code",
      "source": [
        "model = keras.models.load_model('cnn4.model')"
      ],
      "metadata": {
        "id": "UyrXW_iGVzsP"
      },
      "execution_count": null,
      "outputs": []
    },
    {
      "cell_type": "code",
      "source": [
        "result = model.predict([image('/content/drive/MyDrive/dataset/mammooty/mammooty64.png')])\n",
        "if result[0][0] == 1:\n",
        "    prediction = 'mamooty'\n",
        "elif result[0][0] == 0:\n",
        "    prediction = 'mohanlal'\n",
        "else:\n",
        "    prediction = 'I dont know this guy!'\n",
        "print(prediction)"
      ],
      "metadata": {
        "colab": {
          "base_uri": "https://localhost:8080/"
        },
        "id": "9pP0Ef4-XKpP",
        "outputId": "baefc6f8-fb8d-4531-ce1e-d7814704f36d"
      },
      "execution_count": null,
      "outputs": [
        {
          "output_type": "stream",
          "name": "stdout",
          "text": [
            "1/1 [==============================] - 0s 245ms/step\n",
            "mamooty\n"
          ]
        }
      ]
    },
    {
      "cell_type": "code",
      "source": [],
      "metadata": {
        "id": "SpcuUOkBXiLU"
      },
      "execution_count": null,
      "outputs": []
    }
  ]
}